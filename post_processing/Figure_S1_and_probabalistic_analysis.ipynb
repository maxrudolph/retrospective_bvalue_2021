{
 "cells": [
  {
   "cell_type": "markdown",
   "id": "8ae6ba00",
   "metadata": {},
   "source": [
    "This notebook reproduces Figure S1 from **DeSalvio, N.D. and Rudolph, M.L. (2021). ''A Retrospective Analysis of b-value Changes Preceding Strong Earthquakes''**\n",
    "\n",
    "Here, we generate synthetic *observations* consisting of sets of *foreshocks* and *mainshocks*. We then randomly generate *predictions* that include *foreshocks*, *mainshocks*, *insufficient data*, and *neutral* events. The *neutral* and *insufficient data* cases are assigned a default probability indicative of the rate of occurrence of foreshocks in observed seismicity.\n",
    "\n",
    "The cell below introduces a function that calculates the Matthews Correlation Coefficient for arbitrary vectors of predictions P and observations S."
   ]
  },
  {
   "cell_type": "code",
   "execution_count": 1,
   "id": "early-siemens",
   "metadata": {},
   "outputs": [],
   "source": [
    "import numpy as np\n",
    "import matplotlib.pyplot as plt\n",
    "\n",
    "def calculate_MatthewsC(P,S):\n",
    "    \"\"\"calculate the matthews correlation coefficient.\n",
    "    Expects a vector of predictions P and observations S.\n",
    "    The values in P and S.\n",
    "    P=0 means no larger earthquake earthquake\n",
    "    P=1 means that we predict a larger earthquake\n",
    "    P=.05 means 1/20 chance of a larger earthquake\"\"\"\n",
    "    assert(np.shape(S) == np.shape(P))\n",
    "    sbar = np.mean(S)\n",
    "    pbar = np.mean(P)\n",
    "    if pbar == 0 or sbar == 0 or np.std(S) == 0 or np.std(P) == 0:\n",
    "        return 0\n",
    "    numerator = np.sum((S-sbar)*(P-pbar))\n",
    "    denominator = (np.sum((S-sbar)**2)*np.sum((P-pbar)**2))**0.5\n",
    "    C = numerator/denominator\n",
    "    return C"
   ]
  },
  {
   "cell_type": "markdown",
   "id": "c646fd7a",
   "metadata": {},
   "source": [
    "# M>6 events\n",
    "\n",
    "We consider samples of 23 events. Of the 23 events, we have 13 'insufficient data', 1 true prediction, 7 true non-predictions, and 2 neutral events."
   ]
  },
  {
   "cell_type": "code",
   "execution_count": 2,
   "id": "responsible-adelaide",
   "metadata": {},
   "outputs": [],
   "source": [
    "# Distribution of outcomes for the M6+ events\n",
    "nevent = 23;\n",
    "\n",
    "default_mainshock_probability = 0.90\n",
    "P = np.concatenate((default_mainshock_probability*np.ones(13,),\n",
    "                    0*np.ones(1,),\n",
    "                    1*np.ones(7,),\n",
    "                    default_mainshock_probability*np.ones(2,)))\n",
    "\n",
    "# Calculate correlation coefficients for M6+ events\n",
    "prob_true = default_mainshock_probability\n",
    "nreal = 1000000\n",
    "\n",
    "all_S6 = []\n",
    "all_C6 = []\n",
    "ntp_C6 = [] # number of true positive outcomes\n",
    "for i in range(nreal):\n",
    "    all_S6.append( 1.0*(np.random.rand(nevent) < prob_true) )\n",
    "for S in all_S6:\n",
    "    all_C6.append( calculate_MatthewsC(P,S) )\n",
    "    ntp_C6.append(np.sum(np.logical_and(P==0,S==0)))\n",
    "all_C6 = np.array(all_C6)\n",
    "ntp_C6 = np.array(ntp_C6)"
   ]
  },
  {
   "cell_type": "code",
   "execution_count": 3,
   "id": "competitive-upper",
   "metadata": {},
   "outputs": [],
   "source": [
    "# Distribution of outcomes for the M5+ events\n",
    "nreal = nreal+1\n",
    "nevent = 143;\n",
    "# prob_insufficient=13/23\n",
    "# prob_mainshock=1/23\n",
    "# prob_no_mainshock = 6/29\n",
    "# prob_neutral = 3/29\n",
    "\n",
    "P = np.concatenate((default_mainshock_probability*np.ones(132,),\n",
    "                    0*np.ones(2,),\n",
    "                    1*np.ones(4,),\n",
    "                    default_mainshock_probability*np.ones(5,)))\n",
    "\n",
    "# Calculate correlation coefficients for M6+ events\n",
    "prob_true = default_mainshock_probability\n",
    "\n",
    "all_S5 = []\n",
    "all_C5 = []\n",
    "ntp_C5 = [] # number of true positive outcomes\n",
    "for i in range(nreal):\n",
    "    all_S5.append( 1.0*(np.random.rand(nevent) < prob_true) )\n",
    "for S in all_S5:\n",
    "    all_C5.append( calculate_MatthewsC(P,S) )\n",
    "    ntp_C5.append(np.sum(np.logical_and(P==0,S==0)))\n",
    "all_C5 = np.array(all_C5)\n",
    "ntp_C5 = np.array(ntp_C5)"
   ]
  },
  {
   "cell_type": "code",
   "execution_count": 4,
   "id": "electrical-currency",
   "metadata": {},
   "outputs": [
    {
     "data": {
      "text/plain": [
       "0.972449004167607"
      ]
     },
     "execution_count": 4,
     "metadata": {},
     "output_type": "execute_result"
    }
   ],
   "source": [
    "all_C6.max()"
   ]
  },
  {
   "cell_type": "code",
   "execution_count": 5,
   "id": "returning-granny",
   "metadata": {},
   "outputs": [
    {
     "name": "stdout",
     "output_type": "stream",
     "text": [
      "Fraction of M6+ outcomes with 1+ true positives and equal or larger MCC:  0.5934388166651655\n",
      "Fraction of M5+ outcomes with 1+ true positives and equal or larger MCC:  0.039373436882980124\n",
      "Fraction of M5+ outcomes with 2+ true positives and equal or larger MCC:  0.7492684895570578\n"
     ]
    },
    {
     "data": {
      "text/plain": [
       "9911"
      ]
     },
     "execution_count": 5,
     "metadata": {},
     "output_type": "execute_result"
    },
    {
     "data": {
      "image/png": "[encoded data removed]",
      "text/plain": [
       "<Figure size 468x180 with 3 Axes>"
      ]
     },
     "metadata": {
      "needs_background": "light"
     },
     "output_type": "display_data"
    }
   ],
   "source": [
    "f,(ax1,ax2,ax3) = plt.subplots(1,3,figsize=(6.5,2.5))#sharey=True)\n",
    "#ax1.hist(all_C6[all_C6 != 0],51)\n",
    "ax1.hist(all_C6[ntp_C6>0],51)\n",
    "\n",
    "ax1.plot([0.508,0.508],ax1.get_ylim(),'r')\n",
    "ax1.set_xlim([-1,1])\n",
    "ax1.set_xlabel('MCC')\n",
    "ax1.set_title('M≥6, 1 TP')\n",
    "\n",
    "\n",
    "#ax2.hist(all_C5[all_C5 != 0],51)\n",
    "ax2.hist(all_C5[ntp_C5>0],51)\n",
    "ax2.plot([0.308,0.308],ax2.get_ylim(),'r')\n",
    "ax2.set_xlim([-1,1])\n",
    "ax2.set_xlabel('MCC')\n",
    "ax2.set_title('M≥5, 1+ TP')\n",
    "\n",
    "ax3.hist(all_C5[ntp_C5>1],51)\n",
    "ax3.plot([0.308,0.308],ax3.get_ylim(),'r')\n",
    "ax3.set_xlim([-1,1])\n",
    "ax3.set_xlabel('MCC')\n",
    "ax3.set_title('M≥5, 2 TP')\n",
    "#ax3.text(-1.2,600,'(a)')\n",
    "\n",
    "plt.tight_layout()\n",
    "plt.savefig('test.eps')\n",
    "\n",
    "nzC6 = all_C6[np.logical_and(ntp_C6>0,all_C6>-1)]\n",
    "print('Fraction of M6+ outcomes with 1+ true positives and equal or larger MCC: ',np.count_nonzero(nzC6 > 0.508)/len(nzC6))\n",
    "\n",
    "nzC5 = all_C5[np.logical_and(ntp_C5>0,all_C5>-1)]\n",
    "print('Fraction of M5+ outcomes with 1+ true positives and equal or larger MCC: ',np.count_nonzero(nzC5 > 0.308)/len(nzC5))\n",
    "\n",
    "nzC5 = all_C5[np.logical_and(ntp_C5>1,all_C5>-1)]\n",
    "print('Fraction of M5+ outcomes with 2+ true positives and equal or larger MCC: ',np.count_nonzero(nzC5 > 0.308)/len(nzC5))\n",
    "\n",
    "np.sum(ntp_C5>1)"
   ]
  },
  {
   "cell_type": "code",
   "execution_count": null,
   "id": "turned-sweden",
   "metadata": {},
   "outputs": [],
   "source": []
  }
 ],
 "metadata": {
  "kernelspec": {
   "display_name": "Python 3",
   "language": "python",
   "name": "python3"
  },
  "language_info": {
   "codemirror_mode": {
    "name": "ipython",
    "version": 3
   },
   "file_extension": ".py",
   "mimetype": "text/x-python",
   "name": "python",
   "nbconvert_exporter": "python",
   "pygments_lexer": "ipython3",
   "version": "3.7.7"
  }
 },
 "nbformat": 4,
 "nbformat_minor": 5
}
